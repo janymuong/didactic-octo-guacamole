{
 "cells": [
  {
   "cell_type": "markdown",
   "id": "815dd52e-371c-4653-8578-65f4a87215d8",
   "metadata": {},
   "source": [
    "# LLM Prompting\n",
    "<div style=\"\n",
    "    background: linear-gradient(135deg, #0f2027, #203a43, #2c5364);\n",
    "    border-radius: 10px;\n",
    "    padding: 20px;\n",
    "    color: white;\n",
    "    font-family: Arial, sans-serif;\n",
    "    text-align: left;\n",
    "\">\n",
    "    <p>The way to write prompts for Large Language Models in Python</p>\n",
    "    <p>To begin with, generate an OpenAI API key to use</p>\n",
    "</div>"
   ]
  },
  {
   "cell_type": "markdown",
   "id": "9b7fe71e-47ce-438a-b367-7021492df118",
   "metadata": {},
   "source": [
    "## Use Helper Functions\n",
    "From [`helper_functions.py`](helper_functions.py) file\n",
    "> **Andrew Ng**  `Deep Learning.AI: AI Python` course"
   ]
  },
  {
   "cell_type": "code",
   "execution_count": 1,
   "id": "70bd31c9-cc9c-48c9-a8ff-3113866fcaa3",
   "metadata": {
    "height": 81
   },
   "outputs": [],
   "source": [
    "from helper_functions import (\n",
    "get_llm_response,\n",
    "print_llm_response\n",
    ")"
   ]
  },
  {
   "cell_type": "code",
   "execution_count": 2,
   "id": "23e0572f-2357-4267-b17a-b35db0ccfddc",
   "metadata": {
    "height": 30
   },
   "outputs": [
    {
     "name": "stdout",
     "output_type": "stream",
     "text": [
      "Hello, Friend!\n"
     ]
    }
   ],
   "source": [
    "print('Hello, Friend!')"
   ]
  },
  {
   "cell_type": "code",
   "execution_count": 3,
   "id": "9640d663-7faf-47bb-921b-6d5496efc074",
   "metadata": {
    "height": 47
   },
   "outputs": [
    {
     "name": "stdout",
     "output_type": "stream",
     "text": [
      "I am, Jany Muong\n"
     ]
    }
   ],
   "source": [
    "name = 'Jany Muong'\n",
    "print(f\"I am, {name}\")"
   ]
  },
  {
   "cell_type": "code",
   "execution_count": 4,
   "id": "fee21869-706b-4262-a754-9f63fa4eeb47",
   "metadata": {
    "height": 30
   },
   "outputs": [
    {
     "name": "stdout",
     "output_type": "stream",
     "text": [
      "DLAI_python.ipynb  helper_functions.py\r\n"
     ]
    }
   ],
   "source": [
    "!ls -a DLA* *.py"
   ]
  },
  {
   "cell_type": "markdown",
   "id": "930edb0e-d196-4fd8-a9cc-3643151ee10d",
   "metadata": {},
   "source": [
    "## Working With\n",
    "<div style=\"\n",
    "    background: linear-gradient(135deg, #0f2027, #203a43, #2c5364);\n",
    "    border-radius: 10px;\n",
    "    padding: 20px;\n",
    "    color: white;\n",
    "    font-family: Arial, sans-serif;\n",
    "    text-align: left;\n",
    "\">\n",
    "    <p>Dictionaries</p>\n",
    "    \n",
    "</div>"
   ]
  },
  {
   "cell_type": "code",
   "execution_count": 5,
   "id": "ac162321-a32d-4475-8aea-670106ad7f26",
   "metadata": {
    "height": 217
   },
   "outputs": [],
   "source": [
    "ice_cream_flavors = [\n",
    "    \"Vanilla: Classic and creamy with a rich, smooth flavor from real vanilla beans.\",\n",
    "    \"Chocolate: Deep and indulgent, made with rich cocoa for a satisfying chocolate experience.\",\n",
    "    \"Strawberry: Sweet and fruity, bursting with the fresh taste of ripe strawberries.\",\n",
    "    \"Mint Chocolate Chip: Refreshing mint ice cream studded with decadent chocolate chips.\",\n",
    "    \"Cookie Dough: Vanilla ice cream loaded with chunks of chocolate chip cookie dough.\",\n",
    "    \"Salted Caramel: Sweet and salty with a smooth caramel swirl and a hint of sea salt.\",\n",
    "    \"Pistachio: Nutty and creamy, featuring the distinct taste of real pistachios.\",\n",
    "    \"Cookies and Cream: Vanilla ice cream packed with chunks of chocolate sandwich cookies.\",\n",
    "    \"Mango: Tropical and tangy, made with juicy mangoes for a refreshing treat.\",\n",
    "    \"Rocky Road: Chocolate ice cream mixed with marshmallows, nuts, and chocolate chunks.\"\n",
    "]"
   ]
  },
  {
   "cell_type": "markdown",
   "id": "86979fac-37b7-49fb-aa6a-258eac6fb659",
   "metadata": {},
   "source": [
    "> We want to convert a Python List into a Dictionary so that You can easily See the Similarity:"
   ]
  },
  {
   "cell_type": "code",
   "execution_count": 6,
   "id": "aa85c2ff-8af6-4746-a96a-94b7028ee4e7",
   "metadata": {
    "height": 98
   },
   "outputs": [],
   "source": [
    "ice_cream_flavors = {\n",
    "    \"Mint Chocolate Chip\": \"Refreshing mint ice cream studded with decadent chocolate chips.\",\n",
    "    \"Cookie Dough\": \"Vanilla ice cream loaded with chunks of chocolate chip cookie dough.\",\n",
    "    \"Salted Caramel\": \"Sweet and salty with a smooth caramel swirl and a hint of sea salt.\"\n",
    "}   "
   ]
  },
  {
   "cell_type": "code",
   "execution_count": 7,
   "id": "53ec60b1-f34a-4902-87d5-1ceffcf39f1b",
   "metadata": {
    "height": 30
   },
   "outputs": [
    {
     "name": "stdout",
     "output_type": "stream",
     "text": [
      "dict_keys(['Mint Chocolate Chip', 'Cookie Dough', 'Salted Caramel'])\n"
     ]
    }
   ],
   "source": [
    "print(ice_cream_flavors.keys())"
   ]
  },
  {
   "cell_type": "code",
   "execution_count": 8,
   "id": "2337fe2f-cd54-43dc-91f9-04f7bf521d2c",
   "metadata": {
    "height": 30
   },
   "outputs": [
    {
     "name": "stdout",
     "output_type": "stream",
     "text": [
      "dict_values(['Refreshing mint ice cream studded with decadent chocolate chips.', 'Vanilla ice cream loaded with chunks of chocolate chip cookie dough.', 'Sweet and salty with a smooth caramel swirl and a hint of sea salt.'])\n"
     ]
    }
   ],
   "source": [
    "print(ice_cream_flavors.values())"
   ]
  },
  {
   "cell_type": "code",
   "execution_count": 9,
   "id": "22134fa2-c8f6-4385-a554-d6a9a237484e",
   "metadata": {
    "height": 47
   },
   "outputs": [
    {
     "name": "stdout",
     "output_type": "stream",
     "text": [
      "{'Mint Chocolate Chip': 'Refreshing mint ice cream studded with decadent chocolate chips.', 'Cookie Dough': 'Vanilla ice cream loaded with chunks of chocolate chip cookie dough.', 'Salted Caramel': 'Sweet and salty with a smooth caramel swirl and a hint of sea salt.', 'Rocky Road': 'Chocolate ice cream mixed with other ingredients.'}\n"
     ]
    }
   ],
   "source": [
    "ice_cream_flavors[\"Rocky Road\"] = \"Chocolate ice cream mixed with other ingredients.\"\n",
    "print(ice_cream_flavors)"
   ]
  },
  {
   "cell_type": "markdown",
   "id": "a6b4e0dc-9abe-45ee-b517-535947dcc978",
   "metadata": {},
   "source": [
    "## Different Dtypes of Elements\n",
    "Simplify Dictionaries first:   \\\n",
    "Let's say that you have friend and you want store data about them. For Ackerman you have the following dictionary."
   ]
  },
  {
   "cell_type": "code",
   "execution_count": 10,
   "id": "8244c729-4bba-4d18-9f09-629a87c8c4b4",
   "metadata": {
    "height": 115
   },
   "outputs": [
    {
     "name": "stdout",
     "output_type": "stream",
     "text": [
      "{'name': 'Levi Ackerman', 'age': 28, 'Favorite Anime': 'Shingeki Kyojin'}\n"
     ]
    }
   ],
   "source": [
    "ackerman_facts = {\n",
    "    'name': 'Levi Ackerman',\n",
    "    \"age\": 28,\n",
    "    \"Favorite Anime\": \"Shingeki Kyojin\"\n",
    "}\n",
    "print(ackerman_facts)"
   ]
  },
  {
   "cell_type": "code",
   "execution_count": 11,
   "id": "0297b7b2-a163-4466-8e47-753c398a563a",
   "metadata": {
    "height": 47
   },
   "outputs": [
    {
     "name": "stdout",
     "output_type": "stream",
     "text": [
      "{'name': 'Levi Ackerman', 'age': 28, 'Favorite Anime': 'Shingeki Kyojin', 'Cat names': ['Mahoraga', 'Kitty Salama', 'Robot Cat']}\n"
     ]
    }
   ],
   "source": [
    "ackerman_facts[\"Cat names\"] = [\"Mahoraga\", \"Kitty Salama\", \"Robot Cat\"]\n",
    "print(ackerman_facts)"
   ]
  },
  {
   "cell_type": "markdown",
   "id": "17544039-689d-4612-8eff-1dd82d529e7f",
   "metadata": {},
   "source": [
    "## Using Dictionaries to Complete High Priority Tasks using AI\n",
    "\n",
    "<div style=\"\n",
    "    background: linear-gradient(135deg, #0f2027, #203a43, #2c5364);\n",
    "    border-radius: 10px;\n",
    "    padding: 20px;\n",
    "    color: white;\n",
    "    font-family: Arial, sans-serif;\n",
    "    text-align: left;\n",
    "\">\n",
    "    <p>This is the start of prompting. Anything before this point (up) here is Python to warm up.</p>\n",
    "    \n",
    "</div>"
   ]
  },
  {
   "cell_type": "code",
   "execution_count": 12,
   "id": "00600ca2-341b-4759-9d69-0832e07731ee",
   "metadata": {
    "height": 165
   },
   "outputs": [],
   "source": [
    "# large list not ordered by priority. Want to prioritize with a LLM\n",
    "list_of_tasks = [\n",
    "    \"Compose a brief email to my boss explaining that I will be late for tomorrow's meeting.\",\n",
    "    \"Write a birthday poem for Ackerman, celebrating his 28th birthday.\",\n",
    "    \"Write a 300-word review of the movie 'Avengers: Age of Ultron'.\",\n",
    "    \"Draft a thank-you note for my neighbor Robot Person who helped water my plants while I am in my room programming.\",\n",
    "    \"Create an outline for a presentation on the benefits of having an AI girlfriend.\"\n",
    "]"
   ]
  },
  {
   "cell_type": "code",
   "execution_count": 13,
   "id": "f39e622e-c367-4aa8-9a5d-5113dafc8380",
   "metadata": {
    "height": 250
   },
   "outputs": [],
   "source": [
    "high_priority_tasks = [\n",
    "    \"Compose a brief email to my boss explaining that I will be late for tomorrow's meeting.\",\n",
    "    \"Create an outline for a presentation on the benefits of having an AI girlfriend.\"\n",
    "]\n",
    "\n",
    "medium_priority_tasks = [\n",
    "    \"Write a birthday poem for Levi Ackerman, celebrating his 28th birthday.\",\n",
    "    \"Draft a thank-you note for my neighbor Robot Person who helped water my plants while I am in my room programming.\"\n",
    "]\n",
    "\n",
    "low_priority_tasks = [\n",
    "    \"Write a 300-word review of the movie 'Avengers: Age of Ultron'.\"\n",
    "]"
   ]
  },
  {
   "cell_type": "code",
   "execution_count": 14,
   "id": "60389dc0-cc93-4786-b0ac-fac75c8c0033",
   "metadata": {
    "height": 132
   },
   "outputs": [],
   "source": [
    "#create dictionary with all tasks\n",
    "#dictionaries can contain lists!\n",
    "prioritized_tasks = {\n",
    "    \"high_priority\": high_priority_tasks,\n",
    "    \"medium_priority\": medium_priority_tasks,\n",
    "    \"low_priority\": low_priority_tasks\n",
    "}"
   ]
  },
  {
   "cell_type": "code",
   "execution_count": 15,
   "id": "c2e61459-5436-4716-a1f8-017c29025ffd",
   "metadata": {
    "height": 30
   },
   "outputs": [
    {
     "name": "stdout",
     "output_type": "stream",
     "text": [
      "{'high_priority': [\"Compose a brief email to my boss explaining that I will be late for tomorrow's meeting.\", 'Create an outline for a presentation on the benefits of having an AI girlfriend.'], 'medium_priority': ['Write a birthday poem for Levi Ackerman, celebrating his 28th birthday.', 'Draft a thank-you note for my neighbor Robot Person who helped water my plants while I am in my room programming.'], 'low_priority': [\"Write a 300-word review of the movie 'Avengers: Age of Ultron'.\"]}\n"
     ]
    }
   ],
   "source": [
    "print(prioritized_tasks)"
   ]
  },
  {
   "cell_type": "code",
   "execution_count": 16,
   "id": "8df9e5d9-994e-4075-87ce-9f65ee7d7185",
   "metadata": {
    "height": 30
   },
   "outputs": [
    {
     "name": "stdout",
     "output_type": "stream",
     "text": [
      "[\"Compose a brief email to my boss explaining that I will be late for tomorrow's meeting.\", 'Create an outline for a presentation on the benefits of having an AI girlfriend.']\n"
     ]
    }
   ],
   "source": [
    "print(prioritized_tasks[\"high_priority\"])"
   ]
  },
  {
   "cell_type": "markdown",
   "id": "5c189bdb-2de7-409d-b5bf-d3238b40b5b1",
   "metadata": {},
   "source": [
    "## Working w/ the Data Structure\n",
    "With this data structure, it is easy for you to focus only on the high priority tasks and complete them using a for loop and LLMs:"
   ]
  },
  {
   "cell_type": "code",
   "execution_count": 17,
   "id": "70b9c459-43dd-43da-97fc-677ad145e1bf",
   "metadata": {
    "height": 64
   },
   "outputs": [
    {
     "name": "stdout",
     "output_type": "stream",
     "text": [
      "____________________________________________________________________________________________________\n",
      "Subject: Running Late for Tomorrow's Meeting\n",
      "\n",
      "Hi [Boss's Name],\n",
      "\n",
      "I wanted to let you know that I will be running a few minutes late for tomorrow's meeting due to an unexpected appointment. I apologize for any inconvenience this may cause and will join the meeting as soon as I can.\n",
      "\n",
      "Thank you for your understanding.\n",
      "\n",
      "Best regards,\n",
      "[Your Name]\n",
      "____________________________________________________________________________________________________\n",
      "\n",
      "\n",
      "____________________________________________________________________________________________________\n",
      "I. Introduction\n",
      "    A. Definition of AI girlfriend\n",
      "    B. Overview of benefits\n",
      "\n",
      "II. Convenience\n",
      "    A. 24/7 availability\n",
      "    B. Personalized interactions\n",
      "    C. Assistance with tasks\n",
      "\n",
      "III. Emotional Support\n",
      "    A. Non-judgmental listening\n",
      "    B. Emotional intelligence\n",
      "    C. Companionship\n",
      "\n",
      "IV. Customization\n",
      "    A. Tailored to individual preferences\n",
      "    B. Adaptive learning capabilities\n",
      "    C. Constant improvement\n",
      "\n",
      "V. Conclusion\n",
      "    A. Recap of benefits\n",
      "    B. Future potential of AI companionship\n",
      "____________________________________________________________________________________________________\n",
      "\n",
      "\n"
     ]
    }
   ],
   "source": [
    "#complete high priority tasks \n",
    "for task in prioritized_tasks[\"high_priority\"]:\n",
    "    print_llm_response(task)"
   ]
  }
 ],
 "metadata": {
  "kernelspec": {
   "display_name": "Python 3 (ipykernel)",
   "language": "python",
   "name": "python3"
  },
  "language_info": {
   "codemirror_mode": {
    "name": "ipython",
    "version": 3
   },
   "file_extension": ".py",
   "mimetype": "text/x-python",
   "name": "python",
   "nbconvert_exporter": "python",
   "pygments_lexer": "ipython3",
   "version": "3.12.3"
  }
 },
 "nbformat": 4,
 "nbformat_minor": 5
}
