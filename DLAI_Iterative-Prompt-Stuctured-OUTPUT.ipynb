{
 "cells": [
  {
   "cell_type": "markdown",
   "id": "a2505214",
   "metadata": {
    "height": 30
   },
   "source": [
    "# LLM Prompting\n",
    "## `Iterative Prompts`  \n",
    "\n",
    "<div style=\"\n",
    "    background: linear-gradient(135deg, #0f2027, #203a43, #2c5364);\n",
    "    border-radius: 10px;\n",
    "    padding: 20px;\n",
    "    color: white;\n",
    "    font-family: Arial, sans-serif;\n",
    "    text-align: left;\n",
    "\">\n",
    "    <p>To iteratively analyze and refine prompts to generate output in HTML</p>\n",
    "</div>"
   ]
  },
  {
   "cell_type": "markdown",
   "id": "2da77b57",
   "metadata": {
    "height": 30
   },
   "source": [
    "## Use Helper Functions\n",
    "From [`helper_functions.py`](helper_functions.py) file\n",
    "> **Andrew Ng**  `Deep Learning.AI: AI Python` course"
   ]
  },
  {
   "cell_type": "code",
   "execution_count": 1,
   "id": "20de032f",
   "metadata": {
    "height": 81
   },
   "outputs": [],
   "source": [
    "from helper_functions import (\n",
    "get_llm_response,\n",
    "print_llm_response\n",
    ")"
   ]
  },
  {
   "cell_type": "markdown",
   "id": "71d1a1df-03c3-4f38-af6d-3962362f3dcd",
   "metadata": {},
   "source": [
    "## Generate a Product Description from a Fact Sheet"
   ]
  },
  {
   "cell_type": "code",
   "execution_count": 2,
   "id": "5be90e47",
   "metadata": {
    "height": 709,
    "tags": []
   },
   "outputs": [],
   "source": [
    "fact_sheet_chair = \"\"\"\n",
    "OVERVIEW\n",
    "- Part of a beautiful family of mid-century inspired office furniture, \n",
    "including filing cabinets, desks, bookcases, meeting tables, and more.\n",
    "- Several options of shell color and base finishes.\n",
    "- Available with plastic back and front upholstery (SWC-100) \n",
    "or full upholstery (SWC-110) in 10 fabric and 6 leather options.\n",
    "- Base finish options are: stainless steel, matte black, \n",
    "gloss white, or chrome.\n",
    "- Chair is available with or without armrests.\n",
    "- Suitable for home or business settings.\n",
    "- Qualified for contract use.\n",
    "\n",
    "CONSTRUCTION\n",
    "- 5-wheel plastic coated aluminum base.\n",
    "- Pneumatic chair adjust for easy raise/lower action.\n",
    "\n",
    "DIMENSIONS\n",
    "- WIDTH 53 CM | 20.87”\n",
    "- DEPTH 51 CM | 20.08”\n",
    "- HEIGHT 80 CM | 31.50”\n",
    "- SEAT HEIGHT 44 CM | 17.32”\n",
    "- SEAT DEPTH 41 CM | 16.14”\n",
    "\n",
    "OPTIONS\n",
    "- Soft or hard-floor caster options.\n",
    "- Two choices of seat foam densities: \n",
    " medium (1.8 lb/ft3) or high (2.8 lb/ft3)\n",
    "- Armless or 8 position PU armrests \n",
    "\n",
    "MATERIALS\n",
    "SHELL BASE GLIDER\n",
    "- Cast Aluminum with modified nylon PA6/PA66 coating.\n",
    "- Shell thickness: 10 mm.\n",
    "SEAT\n",
    "- HD36 foam\n",
    "\n",
    "COUNTRY OF ORIGIN\n",
    "- Italy\n",
    "\"\"\""
   ]
  },
  {
   "cell_type": "code",
   "execution_count": 3,
   "id": "4f656d0c",
   "metadata": {
    "height": 267,
    "tags": []
   },
   "outputs": [
    {
     "name": "stdout",
     "output_type": "stream",
     "text": [
      "____________________________________________________________________________________________________\n",
      "Versatile mid-century inspired office chair with customizable options for shell color, base finishes, and caster types. Features durable aluminum base, pneumatic height adjustment, and dimensions of 53x51x80 cm. Choose between soft or hard-floor casters, two seat foam densities, and armrest options. Crafted with quality materials including cast aluminum and HD36 foam. Made in Italy and suitable for contract use.\n",
      "____________________________________________________________________________________________________\n",
      "\n",
      "\n"
     ]
    }
   ],
   "source": [
    "prompt = f\"\"\"\n",
    "Your task is to help a marketing team create a \n",
    "description for a retail website of a product based \n",
    "on a technical fact sheet.\n",
    "\n",
    "Write a product description based on the information \n",
    "provided in the technical specifications delimited by \n",
    "triple backticks.\n",
    "\n",
    "Technical specifications: ```{fact_sheet_chair}```\n",
    "\"\"\"\n",
    "response = get_llm_response(prompt)\n",
    "print_llm_response(response)"
   ]
  },
  {
   "cell_type": "markdown",
   "id": "e1361d6f-6022-4b7a-8107-b2e2ff5efd32",
   "metadata": {},
   "source": [
    "## Issue 1: Text is Lengthy \n",
    "- Limit the number of words/sentences/characters."
   ]
  },
  {
   "cell_type": "code",
   "execution_count": 4,
   "id": "f6129532",
   "metadata": {
    "height": 301,
    "tags": []
   },
   "outputs": [
    {
     "name": "stdout",
     "output_type": "stream",
     "text": [
      "____________________________________________________________________________________________________\n",
      "Versatile mid-century office chair with adjustable height and optional armrests. Available in various colors and finishes, with options for plastic or full upholstery in fabric or leather. Made in Italy with quality materials for home or business use.\n",
      "____________________________________________________________________________________________________\n",
      "\n",
      "\n"
     ]
    }
   ],
   "source": [
    "prompt = f\"\"\"\n",
    "Your task is to help a marketing team create a \n",
    "description for a retail website of a product based \n",
    "on a technical fact sheet.\n",
    "\n",
    "Write a product description based on the information \n",
    "provided in the technical specifications delimited by \n",
    "triple backticks.\n",
    "\n",
    "Use at most 50 words.\n",
    "\n",
    "Technical specifications: ```{fact_sheet_chair}```\n",
    "\"\"\"\n",
    "response = get_llm_response(prompt)\n",
    "print_llm_response(response)\n"
   ]
  },
  {
   "cell_type": "code",
   "execution_count": 5,
   "id": "17f658d0",
   "metadata": {
    "height": 30,
    "tags": []
   },
   "outputs": [
    {
     "data": {
      "text/plain": [
       "46"
      ]
     },
     "execution_count": 5,
     "metadata": {},
     "output_type": "execute_result"
    }
   ],
   "source": [
    "len(response.split())"
   ]
  },
  {
   "cell_type": "markdown",
   "id": "a6de9c92-857c-4d1c-8fd1-192cf47c4763",
   "metadata": {},
   "source": [
    "## Issue 2. Text Focuses on the Wrong Details\n",
    "- Ask it to focus on the aspects that are relevant to the intended audience."
   ]
  },
  {
   "cell_type": "code",
   "execution_count": 6,
   "id": "954a8a06",
   "metadata": {
    "height": 352,
    "tags": []
   },
   "outputs": [
    {
     "name": "stdout",
     "output_type": "stream",
     "text": [
      "____________________________________________________________________________________________________\n",
      "This office chair features a durable cast aluminum shell base glider with a modified nylon coating and a seat made of high-density HD36 foam for comfort. Designed in Italy for versatile use in both home and business settings.\n",
      "____________________________________________________________________________________________________\n",
      "\n",
      "\n"
     ]
    }
   ],
   "source": [
    "prompt = f\"\"\"\n",
    "Your task is to help a marketing team create a \n",
    "description for a retail website of a product based \n",
    "on a technical fact sheet.\n",
    "\n",
    "Write a product description based on the information \n",
    "provided in the technical specifications delimited by \n",
    "triple backticks.\n",
    "\n",
    "The description is intended for furniture retailers, \n",
    "so should be technical in nature and focus on the \n",
    "materials the product is constructed from.\n",
    "\n",
    "Use at most 50 words.\n",
    "\n",
    "Technical specifications: ```{fact_sheet_chair}```\n",
    "\"\"\"\n",
    "response = get_llm_response(prompt)\n",
    "print_llm_response(response)"
   ]
  },
  {
   "cell_type": "code",
   "execution_count": 7,
   "id": "e9455d58",
   "metadata": {
    "height": 403,
    "tags": []
   },
   "outputs": [
    {
     "name": "stdout",
     "output_type": "stream",
     "text": [
      "____________________________________________________________________________________________________\n",
      "Versatile office chair with customizable options for shell color, base finish, and upholstery in fabric or leather. Durable cast aluminum shell and base glider coated with modified nylon. Choose medium or high-density foam seats. Suitable for home or office use. Product IDs: SWC-100, SWC-110.\n",
      "____________________________________________________________________________________________________\n",
      "\n",
      "\n"
     ]
    }
   ],
   "source": [
    "prompt = f\"\"\"\n",
    "Your task is to help a marketing team create a \n",
    "description for a retail website of a product based \n",
    "on a technical fact sheet.\n",
    "\n",
    "Write a product description based on the information \n",
    "provided in the technical specifications delimited by \n",
    "triple backticks.\n",
    "\n",
    "The description is intended for furniture retailers, \n",
    "so should be technical in nature and focus on the \n",
    "materials the product is constructed from.\n",
    "\n",
    "At the end of the description, include every 7-character \n",
    "Product ID in the technical specification.\n",
    "\n",
    "Use at most 50 words.\n",
    "\n",
    "Technical specifications: ```{fact_sheet_chair}```\n",
    "\"\"\"\n",
    "response = get_llm_response(prompt)\n",
    "print_llm_response(response)"
   ]
  },
  {
   "cell_type": "markdown",
   "id": "5be496d5-54c9-443b-8116-0b3d3d9dc560",
   "metadata": {},
   "source": [
    "## Issue 3. Description Needs a Table of Dimensions\n",
    "- Ask it to extract information and organize it in a table."
   ]
  },
  {
   "cell_type": "code",
   "execution_count": 8,
   "id": "0384f1e4",
   "metadata": {
    "height": 556,
    "tags": []
   },
   "outputs": [
    {
     "name": "stdout",
     "output_type": "stream",
     "text": [
      "____________________________________________________________________________________________________\n",
      "This HTML code describes a mid-century inspired office chair with details on its construction, materials, comfort features, color options, and dimensions. Two product IDs are provided: SWC-100 and SWC-110. The chair's dimensions are as follows:\n",
      "- Width: 20.87\"\n",
      "- Depth: 20.08\"\n",
      "- Height: 31.50\"\n",
      "- Seat Height: 17.32\"\n",
      "- Seat Depth: 16.14\"\n",
      "____________________________________________________________________________________________________\n",
      "\n",
      "\n"
     ]
    }
   ],
   "source": [
    "prompt = f\"\"\"\n",
    "Your task is to help a marketing team create a \n",
    "description for a retail website of a product based \n",
    "on a technical fact sheet.\n",
    "\n",
    "Write a product description based on the information \n",
    "provided in the technical specifications delimited by \n",
    "triple backticks.\n",
    "\n",
    "The description is intended for furniture retailers, \n",
    "so should be technical in nature and focus on the \n",
    "materials the product is constructed from.\n",
    "\n",
    "At the end of the description, include every 7-character \n",
    "Product ID in the technical specification.\n",
    "\n",
    "After the description, include a table that gives the \n",
    "product's dimensions. The table should have two columns.\n",
    "In the first column include the name of the dimension. \n",
    "In the second column include the measurements in inches only.\n",
    "\n",
    "Give the table the title 'Product Dimensions'.\n",
    "\n",
    "Format everything as HTML that can be used in a website. \n",
    "Place the description in a <div> element.\n",
    "\n",
    "Technical specifications: ```{fact_sheet_chair}```\n",
    "\"\"\"\n",
    "\n",
    "response = get_llm_response(prompt)\n",
    "print_llm_response(response)"
   ]
  },
  {
   "cell_type": "markdown",
   "id": "d681db67-6d59-40c1-a36b-4d76729a690d",
   "metadata": {},
   "source": [
    "## Load Python libraries to view HTML\n",
    "> This allows us to parse LLM response and output as HTML that we can easily present in a form we can easily understand e.g. in this case a table."
   ]
  },
  {
   "cell_type": "code",
   "execution_count": 9,
   "id": "73ff0052",
   "metadata": {
    "height": 30,
    "tags": []
   },
   "outputs": [],
   "source": [
    "from IPython.display import display, HTML"
   ]
  },
  {
   "cell_type": "code",
   "execution_count": 10,
   "id": "3465ffce",
   "metadata": {
    "height": 30,
    "tags": []
   },
   "outputs": [
    {
     "data": {
      "text/html": [
       "```html\n",
       "<div>\n",
       "    <p>This mid-century inspired office chair is a perfect blend of style and functionality. Constructed with high-quality materials, the chair features a durable shell base glider made of cast aluminum with a modified nylon PA6/PA66 coating, ensuring longevity and stability. The seat is crafted with HD36 foam for optimal comfort during long work hours. Available in various shell colors and base finishes, this chair is a versatile addition to any home or business setting.</p>\n",
       "    \n",
       "    <p>Product IDs: SWC-100, SWC-110</p>\n",
       "    \n",
       "    <h2>Product Dimensions</h2>\n",
       "    <table>\n",
       "        <tr>\n",
       "            <td>WIDTH</td>\n",
       "            <td>20.87\"</td>\n",
       "        </tr>\n",
       "        <tr>\n",
       "            <td>DEPTH</td>\n",
       "            <td>20.08\"</td>\n",
       "        </tr>\n",
       "        <tr>\n",
       "            <td>HEIGHT</td>\n",
       "            <td>31.50\"</td>\n",
       "        </tr>\n",
       "        <tr>\n",
       "            <td>SEAT HEIGHT</td>\n",
       "            <td>17.32\"</td>\n",
       "        </tr>\n",
       "        <tr>\n",
       "            <td>SEAT DEPTH</td>\n",
       "            <td>16.14\"</td>\n",
       "        </tr>\n",
       "    </table>\n",
       "</div>\n",
       "```"
      ],
      "text/plain": [
       "<IPython.core.display.HTML object>"
      ]
     },
     "metadata": {},
     "output_type": "display_data"
    }
   ],
   "source": [
    "display(HTML(response))"
   ]
  }
 ],
 "metadata": {
  "kernelspec": {
   "display_name": "Python 3 (ipykernel)",
   "language": "python",
   "name": "python3"
  },
  "language_info": {
   "codemirror_mode": {
    "name": "ipython",
    "version": 3
   },
   "file_extension": ".py",
   "mimetype": "text/x-python",
   "name": "python",
   "nbconvert_exporter": "python",
   "pygments_lexer": "ipython3",
   "version": "3.9.19"
  }
 },
 "nbformat": 4,
 "nbformat_minor": 5
}
