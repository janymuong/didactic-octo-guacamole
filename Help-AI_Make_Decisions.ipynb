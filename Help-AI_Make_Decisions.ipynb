{
 "cells": [
  {
   "cell_type": "markdown",
   "id": "c3974389",
   "metadata": {
    "height": 30
   },
   "source": [
    "# LLM Prompting - Help AI Make Decisions\n",
    "\n",
    "<div style=\"\n",
    "    background: linear-gradient(135deg, #0f2027, #203a43, #2c5364);\n",
    "    border-radius: 10px;\n",
    "    padding: 20px;\n",
    "    color: white;\n",
    "    font-family: Arial, sans-serif;\n",
    "    text-align: left;\n",
    "\">\n",
    "    <p>How to use booleans & control structures to create programs with branching decisions.</p>\n",
    "</div>"
   ]
  },
  {
   "cell_type": "code",
   "execution_count": 1,
   "id": "2b263c02",
   "metadata": {
    "height": 81
   },
   "outputs": [
    {
     "name": "stdout",
     "output_type": "stream",
     "text": [
      "Either all of it is true, or none of it is :)\n"
     ]
    }
   ],
   "source": [
    "if 'vegetarian' == 'vegan':\n",
    "    print('I have explictly proven that a vegan is vegetarian')\n",
    "else:\n",
    "    print('Either all of it is true, or none of it is :)')"
   ]
  },
  {
   "cell_type": "code",
   "execution_count": 2,
   "id": "7f02d47c",
   "metadata": {
    "height": 30
   },
   "outputs": [
    {
     "data": {
      "text/plain": [
       "False"
      ]
     },
     "execution_count": 2,
     "metadata": {},
     "output_type": "execute_result"
    }
   ],
   "source": [
    "'vegetarian' == 'vegan'"
   ]
  },
  {
   "cell_type": "markdown",
   "id": "7c244405",
   "metadata": {
    "height": 30
   },
   "source": [
    "## Perform Tasks Depending on Time to Completion\n",
    "Let's say that you have a task list with tasks that LLMs could assist you with. Each element in that list is a dictionary with two keys: the `description` for the task and the `time_to_complete` after the LLM's first pass."
   ]
  },
  {
   "cell_type": "markdown",
   "id": "ef9e5d5c",
   "metadata": {
    "height": 64
   },
   "source": [
    "## Use Helper Functions\n",
    "From [`helper_functions.py`](helper_functions.py) file\n",
    "> **Andrew Ng**  `Deep Learning.AI: AI Python`"
   ]
  },
  {
   "cell_type": "code",
   "execution_count": 3,
   "id": "f986bc10",
   "metadata": {
    "height": 81
   },
   "outputs": [],
   "source": [
    "from helper_functions import (\n",
    "get_llm_response,\n",
    "print_llm_response\n",
    ")"
   ]
  },
  {
   "cell_type": "code",
   "execution_count": 4,
   "id": "695c3325",
   "metadata": {
    "height": 403
   },
   "outputs": [],
   "source": [
    "task_list = [\n",
    "    {\n",
    "        \"description\": \"Write me a short descrptive text to remind me to study Neural Networks.\",\n",
    "        \"time_to_complete\": 2\n",
    "    },\n",
    "    {\n",
    "        \"description\": \"Create an outline for a presentation on the benefits of remote work.\",\n",
    "        \"time_to_complete\": 30\n",
    "    },\n",
    "    {\n",
    "        \"description\": \"Write a 300-word review of the movie 'Avengers: Age of Ultron'.\",\n",
    "        \"time_to_complete\": 30\n",
    "    },\n",
    "    {\n",
    "        \"description\": \"Create a shopping list for tofu and olive stir fry.\",\n",
    "        \"time_to_complete\": 8\n",
    "    },\n",
    "    {\n",
    "        \"description\": \"As my friend write me a short text to remind me that I am funny and smart, and that I am smart enough to change the world\",\n",
    "        \"time_to_complete\": 3\n",
    "    }\n",
    "]"
   ]
  },
  {
   "cell_type": "markdown",
   "id": "964862cf",
   "metadata": {
    "height": 30
   },
   "source": [
    "## An `if`-`else` block, and a Decision"
   ]
  },
  {
   "cell_type": "code",
   "execution_count": 5,
   "id": "1d4d51c5",
   "metadata": {
    "height": 47
   },
   "outputs": [
    {
     "name": "stdout",
     "output_type": "stream",
     "text": [
      "Doable today\n"
     ]
    }
   ],
   "source": [
    "if task_list[0][\"time_to_complete\"] <= 7:\n",
    "    print('Doable today')"
   ]
  },
  {
   "cell_type": "code",
   "execution_count": 6,
   "id": "479c1865",
   "metadata": {
    "height": 64
   },
   "outputs": [
    {
     "name": "stdout",
     "output_type": "stream",
     "text": [
      "____________________________________________________________________________________________________\n",
      "Remember to study Neural Networks to understand how artificial intelligence models are inspired by the human brain to process complex information and make decisions.\n",
      "____________________________________________________________________________________________________\n",
      "\n",
      "\n"
     ]
    }
   ],
   "source": [
    "if task_list[0][\"time_to_complete\"] <= 7:\n",
    "    task = task_list[0][\"description\"]\n",
    "    print_llm_response(task)"
   ]
  },
  {
   "cell_type": "code",
   "execution_count": 7,
   "id": "dd3af241",
   "metadata": {
    "height": 234
   },
   "outputs": [
    {
     "name": "stdout",
     "output_type": "stream",
     "text": [
      "____________________________________________________________________________________________________\n",
      "Remember to study Neural Networks to understand how artificial intelligence models are inspired by the human brain to process complex information and make decisions.\n",
      "____________________________________________________________________________________________________\n",
      "\n",
      "\n",
      "____________________________________________________________________________________________________\n",
      "You are funny, smart, and have the potential to change the world. Believe in yourself.\n",
      "____________________________________________________________________________________________________\n",
      "\n",
      "\n",
      "TASK: \"Create an outline for a presentation on the benefits of remote work.\" lasts 30 minutes - might not be doable today.\n",
      "TASK: \"Write a 300-word review of the movie 'Avengers: Age of Ultron'.\" lasts 30 minutes - might not be doable today.\n",
      "TASK: \"Create a shopping list for tofu and olive stir fry.\" lasts 8 minutes - might not be doable today.\n"
     ]
    }
   ],
   "source": [
    "tasks_for_later = []\n",
    "\n",
    "for task in task_list:\n",
    "    if task[\"time_to_complete\"] <= 7:\n",
    "        task_to_do = task[\"description\"]\n",
    "        print_llm_response(task_to_do)\n",
    "    else:\n",
    "        tasks_for_later.append(task)\n",
    "        \n",
    "\n",
    "for task in tasks_for_later:\n",
    "    print(f'TASK: \"{task[\"description\"]}\" lasts {task[\"time_to_complete\"]} minutes', end=' - ')\n",
    "    print('might not be doable today.')"
   ]
  },
  {
   "cell_type": "code",
   "execution_count": null,
   "id": "ff6c71e8",
   "metadata": {
    "height": 30
   },
   "outputs": [],
   "source": []
  }
 ],
 "metadata": {
  "kernelspec": {
   "display_name": "Python 3 (ipykernel)",
   "language": "python",
   "name": "python3"
  },
  "language_info": {
   "codemirror_mode": {
    "name": "ipython",
    "version": 3
   },
   "file_extension": ".py",
   "mimetype": "text/x-python",
   "name": "python",
   "nbconvert_exporter": "python",
   "pygments_lexer": "ipython3",
   "version": "3.9.19"
  }
 },
 "nbformat": 4,
 "nbformat_minor": 5
}
